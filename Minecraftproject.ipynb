{
 "cells": [
  {
   "cell_type": "code",
   "execution_count": null,
   "id": "c44b3559-00b0-4052-b697-234f63580c47",
   "metadata": {},
   "outputs": [],
   "source": []
  },
  {
   "cell_type": "code",
   "execution_count": 1,
   "id": "69c46d87-62e9-4747-91ba-b8a4e94fffbe",
   "metadata": {},
   "outputs": [
    {
     "name": "stderr",
     "output_type": "stream",
     "text": [
      "── \u001b[1mAttaching core tidyverse packages\u001b[22m ──────────────────────── tidyverse 2.0.0 ──\n",
      "\u001b[32m✔\u001b[39m \u001b[34mdplyr    \u001b[39m 1.1.4     \u001b[32m✔\u001b[39m \u001b[34mreadr    \u001b[39m 2.1.5\n",
      "\u001b[32m✔\u001b[39m \u001b[34mforcats  \u001b[39m 1.0.0     \u001b[32m✔\u001b[39m \u001b[34mstringr  \u001b[39m 1.5.1\n",
      "\u001b[32m✔\u001b[39m \u001b[34mggplot2  \u001b[39m 3.5.1     \u001b[32m✔\u001b[39m \u001b[34mtibble   \u001b[39m 3.2.1\n",
      "\u001b[32m✔\u001b[39m \u001b[34mlubridate\u001b[39m 1.9.3     \u001b[32m✔\u001b[39m \u001b[34mtidyr    \u001b[39m 1.3.1\n",
      "\u001b[32m✔\u001b[39m \u001b[34mpurrr    \u001b[39m 1.0.2     \n",
      "── \u001b[1mConflicts\u001b[22m ────────────────────────────────────────── tidyverse_conflicts() ──\n",
      "\u001b[31m✖\u001b[39m \u001b[34mdplyr\u001b[39m::\u001b[32mfilter()\u001b[39m masks \u001b[34mstats\u001b[39m::filter()\n",
      "\u001b[31m✖\u001b[39m \u001b[34mdplyr\u001b[39m::\u001b[32mlag()\u001b[39m    masks \u001b[34mstats\u001b[39m::lag()\n",
      "\u001b[36mℹ\u001b[39m Use the conflicted package (\u001b[3m\u001b[34m<http://conflicted.r-lib.org/>\u001b[39m\u001b[23m) to force all conflicts to become errors\n",
      "── \u001b[1mAttaching packages\u001b[22m ────────────────────────────────────── tidymodels 1.1.1 ──\n",
      "\n",
      "\u001b[32m✔\u001b[39m \u001b[34mbroom       \u001b[39m 1.0.6     \u001b[32m✔\u001b[39m \u001b[34mrsample     \u001b[39m 1.2.1\n",
      "\u001b[32m✔\u001b[39m \u001b[34mdials       \u001b[39m 1.3.0     \u001b[32m✔\u001b[39m \u001b[34mtune        \u001b[39m 1.1.2\n",
      "\u001b[32m✔\u001b[39m \u001b[34minfer       \u001b[39m 1.0.7     \u001b[32m✔\u001b[39m \u001b[34mworkflows   \u001b[39m 1.1.4\n",
      "\u001b[32m✔\u001b[39m \u001b[34mmodeldata   \u001b[39m 1.4.0     \u001b[32m✔\u001b[39m \u001b[34mworkflowsets\u001b[39m 1.0.1\n",
      "\u001b[32m✔\u001b[39m \u001b[34mparsnip     \u001b[39m 1.2.1     \u001b[32m✔\u001b[39m \u001b[34myardstick   \u001b[39m 1.3.1\n",
      "\u001b[32m✔\u001b[39m \u001b[34mrecipes     \u001b[39m 1.1.0     \n",
      "\n",
      "── \u001b[1mConflicts\u001b[22m ───────────────────────────────────────── tidymodels_conflicts() ──\n",
      "\u001b[31m✖\u001b[39m \u001b[34mscales\u001b[39m::\u001b[32mdiscard()\u001b[39m masks \u001b[34mpurrr\u001b[39m::discard()\n",
      "\u001b[31m✖\u001b[39m \u001b[34mdplyr\u001b[39m::\u001b[32mfilter()\u001b[39m   masks \u001b[34mstats\u001b[39m::filter()\n",
      "\u001b[31m✖\u001b[39m \u001b[34mrecipes\u001b[39m::\u001b[32mfixed()\u001b[39m  masks \u001b[34mstringr\u001b[39m::fixed()\n",
      "\u001b[31m✖\u001b[39m \u001b[34mdplyr\u001b[39m::\u001b[32mlag()\u001b[39m      masks \u001b[34mstats\u001b[39m::lag()\n",
      "\u001b[31m✖\u001b[39m \u001b[34myardstick\u001b[39m::\u001b[32mspec()\u001b[39m masks \u001b[34mreadr\u001b[39m::spec()\n",
      "\u001b[31m✖\u001b[39m \u001b[34mrecipes\u001b[39m::\u001b[32mstep()\u001b[39m   masks \u001b[34mstats\u001b[39m::step()\n",
      "\u001b[34m•\u001b[39m Search for functions across packages at \u001b[32mhttps://www.tidymodels.org/find/\u001b[39m\n",
      "\n"
     ]
    },
    {
     "ename": "ERROR",
     "evalue": "Error in library(recipe): there is no package called ‘recipe’\n",
     "output_type": "error",
     "traceback": [
      "Error in library(recipe): there is no package called ‘recipe’\nTraceback:\n",
      "1. library(recipe)"
     ]
    }
   ],
   "source": [
    "library(repr)\n",
    "library(tidyverse)\n",
    "library(tidymodels)\n",
    "library(recipe)\n",
    "options(repr.matrix.max.rows = 10)\n",
    "source(\"cleanup.R\")"
   ]
  },
  {
   "cell_type": "code",
   "execution_count": null,
   "id": "178d8197-d192-40f4-938d-26b8c4541f2b",
   "metadata": {},
   "outputs": [],
   "source": [
    "players<-read_csv(\"players.csv\")\n",
    "players"
   ]
  },
  {
   "cell_type": "code",
   "execution_count": null,
   "id": "b327ec09-0d7b-4343-9007-bcc3e6ddc768",
   "metadata": {},
   "outputs": [],
   "source": [
    "players<-players|>\n",
    "select(experience, subscribe, played_hours)\n",
    "players"
   ]
  },
  {
   "cell_type": "code",
   "execution_count": null,
   "id": "7ae689b7-4f35-4083-91b6-a0a507058f6e",
   "metadata": {},
   "outputs": [],
   "source": [
    "options(repr.plot.width = 10, repr.plot.height = 10) \n",
    "player_experience_plot<-players|>\n",
    "ggplot(aes(x=experience, fill=subscribe))+\n",
    "geom_bar(position=\"fill\")+\n",
    "labs(x=\"Player Experience Level\", y=\"Proportion\", fill=\"Subscribed\")+\n",
    "scale_fill_manual(values = c(\"TRUE\" = \"purple\", \"FALSE\" = \"pink\")) +\n",
    "ggtitle(\"Player Experience Level vs. Subscribers (Figure 1)\")+\n",
    "theme(plot.title = element_text(hjust = 0.5, size = 18, face = \"bold\"),  \n",
    "axis.title = element_text(size = 14),                             \n",
    "axis.text = element_text(size = 13))\n",
    "player_experience_plot"
   ]
  },
  {
   "cell_type": "code",
   "execution_count": null,
   "id": "40ad1cfc-02ee-40ab-927e-a9334d0cbb97",
   "metadata": {},
   "outputs": [],
   "source": [
    "options(repr.plot.width = 10, repr.plot.height = 10) \n",
    "hours_played_plot<-players|>\n",
    "ggplot(aes(x=played_hours, fill=subscribe))+\n",
    "geom_histogram(position=\"dodge\", binwidth=30)+\n",
    "labs(x=\"Hours Played\", y=\"Proportion\", fill=\"Subscribed\")+\n",
    "scale_fill_manual(values = c(\"TRUE\" = \"purple\", \"FALSE\" = \"pink\")) +\n",
    "ggtitle(\"Hours Played vs. Subscribers (Figure 2)\")+\n",
    "theme(plot.title = element_text(hjust = 0.5, size = 18, face = \"bold\"),  \n",
    "axis.title = element_text(size = 14),                             \n",
    "axis.text = element_text(size = 13))\n",
    "hours_played_plot"
   ]
  },
  {
   "cell_type": "code",
   "execution_count": null,
   "id": "fbd3ef93-4137-4eb7-bdb3-d22d222be23a",
   "metadata": {},
   "outputs": [],
   "source": [
    "players <- players|>\n",
    "mutate(subscribe = factor(subscribe, levels = c(\"FALSE\", \"TRUE\")))\n",
    "players"
   ]
  },
  {
   "cell_type": "code",
   "execution_count": null,
   "id": "6f3b164a-d525-4b1d-b05a-fb851133c93d",
   "metadata": {},
   "outputs": [],
   "source": [
    "data_split<-initial_split(players, prop = 0.8, strata = subscribe)\n",
    "data_split\n",
    "training_data<-training(data_split)\n",
    "training_data\n",
    "testing_data<-testing(data_split)\n",
    "testing_data"
   ]
  },
  {
   "cell_type": "code",
   "execution_count": null,
   "id": "a7ab901d-05b7-4d45-96be-3b29d5723518",
   "metadata": {},
   "outputs": [],
   "source": [
    "subscribe_recipe<-recipe(subscribe~experience+played_hours, data=training_data)|>\n",
    "step_scale(all_predictors())|>\n",
    "step_center(all_predictors())\n",
    "subscribe_recipe"
   ]
  },
  {
   "cell_type": "code",
   "execution_count": null,
   "id": "63fef310-3ec9-4315-a57a-78dda2613df4",
   "metadata": {},
   "outputs": [],
   "source": [
    "subscribe_spec<-nearest_neighbor(weight_func=\"rectangular\", neighbors=tune())|>\n",
    "set_engine(\"kknn\")|>\n",
    "set_mode(\"classification\")\n",
    "subscribe_spec"
   ]
  },
  {
   "cell_type": "code",
   "execution_count": null,
   "id": "5f3f0544-158b-47b2-aed9-bb266a3da0b6",
   "metadata": {},
   "outputs": [],
   "source": [
    "subscribe_workflow<-workflow()|>\n",
    "add_recipe(subscribe_recipe)|>\n",
    "add_model(subscribe_spec)|>\n",
    "fit(data=training_data)\n",
    "subscribe_workflow"
   ]
  },
  {
   "cell_type": "code",
   "execution_count": null,
   "id": "e497af6c-d64c-45bb-8a97-5c3da9c68e96",
   "metadata": {},
   "outputs": [],
   "source": [
    "subscribe_folds<-vfold_cv(training_data, v = 5, strata = subscribe)\n",
    "subscribe_folds"
   ]
  },
  {
   "cell_type": "code",
   "execution_count": null,
   "id": "e2521794-ecd5-4659-87d6-5ce7cb4071e2",
   "metadata": {},
   "outputs": [],
   "source": [
    "subscribe_resample_fit<-workflow()|>\n",
    "add_recipe(fruit_recipe)|>\n",
    "add_model(knn_spec)|>\n",
    "fit_resamples(resamples=fruit_vfold)\n",
    "fruit_resample_fit"
   ]
  }
 ],
 "metadata": {
  "kernelspec": {
   "display_name": "R",
   "language": "R",
   "name": "ir"
  },
  "language_info": {
   "codemirror_mode": "r",
   "file_extension": ".r",
   "mimetype": "text/x-r-source",
   "name": "R",
   "pygments_lexer": "r",
   "version": "4.3.3"
  }
 },
 "nbformat": 4,
 "nbformat_minor": 5
}
